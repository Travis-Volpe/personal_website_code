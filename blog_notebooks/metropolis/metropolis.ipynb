{
 "cells": [
  {
   "cell_type": "code",
   "execution_count": 1,
   "metadata": {
    "collapsed": false
   },
   "outputs": [],
   "source": [
    "import numpy as np\n",
    "import scipy.stats as st\n",
    "import scipy.constants as constants\n",
    "import matplotlib.pyplot as plt\n",
    "import seaborn as sns\n",
    "%matplotlib inline"
   ]
  },
  {
   "cell_type": "markdown",
   "metadata": {
    "collapsed": true
   },
   "source": [
    "# Markov Chain Monte Carlo Sampling"
   ]
  },
  {
   "cell_type": "markdown",
   "metadata": {},
   "source": [
    "In my opinion, the ultimate goal of modern statistical computing is efficient Monte Carlo sampling. More precisely, given a distrubution $p(x)$ where $x \\in X$, we want to sample from $p$. For example, in Bayesian inference, we want to sample from $p(\\theta | x) \\propto p(x | \\theta) p (\\theta)$ because it contains the information we learn about $\\theta$ from $x$, and we can use samples to produce histograms. If $X$ is low dimensional and has a small number of connected components, then it is easy to dream up niave algorithms which sample from $p$. If $X$ is high dimensional or has a large number of connected components, niave algorithms do not work well. This is explained beautifully in chapter 29 of David MacKay's Book, [Information Theory, Inference and Learning Algorithms](http://www.inference.phy.cam.ac.uk/itprnn/book.html)."
   ]
  },
  {
   "cell_type": "markdown",
   "metadata": {
    "collapsed": true
   },
   "source": [
    "One way to sample from $p$ is to produce a Markov Chain on $X$ whose stationary distrubution is $p$. Algorithms based of this idea are called Markov chain Monte Carlo algorithms. In this notebook, we shall focus on the Metropolis algorithm, which is the simplest MCMC algorithm. To run the algorithm, we also need a distrubution $q(x'|x)$ on $X$ parameterized by $X$ from which we can sample. For example, if $X$ is Euclidean space, we can take $q$ to be a multivariate normal distrubution with mean $x$. Here is pseudo-code for the transition step:"
   ]
  },
  {
   "cell_type": "markdown",
   "metadata": {},
   "source": [
    "```\n",
    "input x, p, q\n",
    "sample x' <- q(x',x)\n",
    "a = p(x') * q(x,x') / p(x) * q(x',x)\n",
    "if a >= 1 then return x'\n",
    "          else sample u <- Uniform(0,1)\n",
    "               if u <= a then return x'\n",
    "                         else return x\n",
    "```\n"
   ]
  },
  {
   "cell_type": "markdown",
   "metadata": {},
   "source": [
    "Notice that we only need $p$ upto multiplication by a constant. Suppose that $q(x'|x) = q(x|x')$ (this is the case when $q$ is a multivariate normal distrubution). Then $a = p(x') / p(x)$. The intuition is that if $p(x') \\geq p(x)$, then the Markov chain will transition to $x'$. Therefore the stationary distrubution should be concentrated in the parts of $X$ where $p(x)$ is high. We can make this more precise as follows: Suppose that $X$ is discrete. Then this pseudo-code defines a Markov chain on $X$ with transition probability:"
   ]
  },
  {
   "cell_type": "markdown",
   "metadata": {},
   "source": [
    "$$\n",
    "k(x'|x) =\n",
    "\\begin{cases}\n",
    "q(x'|x) & x' \\not= x \\quad a(x',x) \\geq 1 \\\\\n",
    "q(x'|x) a(x',x) & x' \\not= x \\quad a(x',x) < 1 \\\\\n",
    "q(x'|x) + \\sum_{z:a(z,x) < 1} q(z|x)(1 - a(z,x)) & x' = x\n",
    "\\end{cases}\n",
    "$$\n",
    "\n",
    "$${\\rm where} \\; \\; a(x',x) = \\frac{p(x') q(x | x')}{p(x) q(x'|x)}$$"
   ]
  },
  {
   "cell_type": "markdown",
   "metadata": {},
   "source": [
    "This Markov chain satisfies $k(x' | x) p(x) = k(x | x') p(x')$ which implies that"
   ]
  },
  {
   "cell_type": "markdown",
   "metadata": {},
   "source": [
    "$$\\sum_x k(x' | x) p(x) = p(x').$$"
   ]
  },
  {
   "cell_type": "markdown",
   "metadata": {},
   "source": [
    "Therefore $p$ is the stationary distrubution of $k$. It is possible to construct a similar proof when $X$ is a manifold. Now let us implement the Metropolis algorithm and look at some examples."
   ]
  },
  {
   "cell_type": "code",
   "execution_count": 2,
   "metadata": {
    "collapsed": true
   },
   "outputs": [],
   "source": [
    "def transition(current_state,logp,logq,genq):\n",
    "    \n",
    "    new_state = genq(current_state)\n",
    "    # we use log probabilities to avoid underflow\n",
    "    loga = logp(new_state) + logq(current_state,new_state) - logp(current_state) - logq(new_state,current_state)\n",
    "\n",
    "    if loga >= 0:\n",
    "        return new_state\n",
    "\n",
    "    u = st.uniform.rvs()\n",
    "\n",
    "    if np.log(u) <= loga:\n",
    "        return new_state\n",
    "    else:\n",
    "        return current_state\n",
    "\n",
    "\n",
    "\n",
    "def sample(initial_state,logp,logq,genq,num_samples):\n",
    "    current_state = initial_state\n",
    "    samples = [initial_state]\n",
    "    for i in range(num_samples):\n",
    "        current_state = transition(current_state,logp,logq,genq)\n",
    "        samples.append(current_state)\n",
    "    return np.array(samples)"
   ]
  },
  {
   "cell_type": "code",
   "execution_count": 3,
   "metadata": {
    "collapsed": false
   },
   "outputs": [],
   "source": [
    "# sampling from a normal distrubution with the metropolis algorithm\n",
    "logp = st.norm().logpdf\n",
    "def logq(x_prime,x): return st.norm.logpdf(x_prime,loc=x)\n",
    "def genq(x): return st.norm.rvs(loc=x)"
   ]
  },
  {
   "cell_type": "code",
   "execution_count": 4,
   "metadata": {
    "collapsed": false
   },
   "outputs": [],
   "source": [
    "sample_mcmc = sample(0,logp,logq,genq,10000)\n",
    "sample_real = np.random.normal(0,1,10000)"
   ]
  },
  {
   "cell_type": "code",
   "execution_count": 5,
   "metadata": {
    "collapsed": false
   },
   "outputs": [
    {
     "data": {
      "image/png": "[encoded data removed]",
      "text/plain": [
       "<matplotlib.figure.Figure at 0x7fd40ef5e5f8>"
      ]
     },
     "metadata": {},
     "output_type": "display_data"
    }
   ],
   "source": [
    "p, ax1 = plt.subplots(2,sharex=True,sharey=True)\n",
    "ax1[0].hist(sample_mcmc,bins=20)\n",
    "ax1[0].set_title(\"mcmc samples\")\n",
    "ax1[1].hist(sample_real,bins=20,color='g')\n",
    "ax1[1].set_title(\"direct samples\")\n",
    "plt.show()"
   ]
  },
  {
   "cell_type": "code",
   "execution_count": 24,
   "metadata": {
    "collapsed": true
   },
   "outputs": [],
   "source": [
    "# sampling from a quadmodal distrubution with the metropolis algorithm\n",
    "def logp(x):\n",
    "    return np.log(np.power(np.sin(x), 2)) if 0 < x < (4 * constants.pi) else np.log(0)\n",
    "def logq(x_prime,x): return st.norm.logpdf(x_prime,loc=x)\n",
    "def genq(x): return st.norm.rvs(loc=x)"
   ]
  },
  {
   "cell_type": "code",
   "execution_count": 25,
   "metadata": {
    "collapsed": false
   },
   "outputs": [],
   "source": [
    "sample_mcmc = sample(0,logp,logq,genq,50000)"
   ]
  },
  {
   "cell_type": "code",
   "execution_count": 26,
   "metadata": {
    "collapsed": false
   },
   "outputs": [
    {
     "data": {
      "image/png": "[encoded data removed]",
      "text/plain": [
       "<matplotlib.figure.Figure at 0x7fd40c0bfa20>"
      ]
     },
     "metadata": {},
     "output_type": "display_data"
    }
   ],
   "source": [
    "plt.hist(sample_mcmc,bins=50,normed=True)\n",
    "xs = np.linspace(0, 4*constants.pi, num=100)\n",
    "plt.plot(xs, np.power(np.sin(xs), 2) / constants.pi, color=\"r\")\n",
    "plt.show()"
   ]
  },
  {
   "cell_type": "code",
   "execution_count": null,
   "metadata": {
    "collapsed": true
   },
   "outputs": [],
   "source": []
  }
 ],
 "metadata": {
  "kernelspec": {
   "display_name": "Python 3",
   "language": "python",
   "name": "python3"
  },
  "language_info": {
   "codemirror_mode": {
    "name": "ipython",
    "version": 3
   },
   "file_extension": ".py",
   "mimetype": "text/x-python",
   "name": "python",
   "nbconvert_exporter": "python",
   "pygments_lexer": "ipython3",
   "version": "3.5.1"
  },
  "widgets": {
   "state": {},
   "version": "1.1.1"
  }
 },
 "nbformat": 4,
 "nbformat_minor": 0
}
