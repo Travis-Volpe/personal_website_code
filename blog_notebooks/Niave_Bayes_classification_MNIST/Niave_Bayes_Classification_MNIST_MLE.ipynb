{
 "cells": [
  {
   "cell_type": "code",
   "execution_count": 1,
   "metadata": {
    "collapsed": false
   },
   "outputs": [],
   "source": [
    "import numpy as np\n",
    "import matplotlib.pyplot as plt\n",
    "%matplotlib inline"
   ]
  },
  {
   "cell_type": "code",
   "execution_count": 2,
   "metadata": {
    "collapsed": false
   },
   "outputs": [],
   "source": [
    "train_data = np.loadtxt('./.cleaned_data_train_Data.csv',delimiter=',',dtype=int)"
   ]
  },
  {
   "cell_type": "code",
   "execution_count": 3,
   "metadata": {
    "collapsed": false
   },
   "outputs": [],
   "source": [
    "classifier_freq = np.ones( 10, dtype=int )\n",
    "pixel_freq = np.ones( (28*28,10), dtype=int )\n",
    "N = train_data.shape[0]\n",
    "D = train_data.shape[1]"
   ]
  },
  {
   "cell_type": "code",
   "execution_count": 4,
   "metadata": {
    "collapsed": false
   },
   "outputs": [],
   "source": [
    "for i in range(N):\n",
    "    c = train_data[i,0]\n",
    "    classifier_freq[c] = classifier_freq[c] + 1\n",
    "    for j in range(28 * 28):\n",
    "        if train_data[i,1:][j] == 1:\n",
    "            pixel_freq[j,c] = pixel_freq[j,c]+1"
   ]
  },
  {
   "cell_type": "code",
   "execution_count": 5,
   "metadata": {
    "collapsed": false
   },
   "outputs": [],
   "source": [
    "pi_hat = classifier_freq / N\n",
    "theta_hat = np.zeros( (28 * 28,10), dtype=float)\n",
    "for c in range(10):\n",
    "    for i in range(28 * 28):\n",
    "        theta_hat[i,c] = theta_hat[i,c] + pixel_freq[i,c] / classifier_freq[c]\n",
    "pi_hat_log = np.log(pi_hat)\n",
    "theta_hat_log = np.log(theta_hat)\n",
    "one_minus_theta_hat_log = np.log(1-theta_hat)"
   ]
  },
  {
   "cell_type": "code",
   "execution_count": 19,
   "metadata": {
    "collapsed": false
   },
   "outputs": [
    {
     "data": {
      "image/png": "[encoded data removed]",
      "text/plain": [
       "<matplotlib.figure.Figure at 0x7f80b1a16cf8>"
      ]
     },
     "metadata": {},
     "output_type": "display_data"
    }
   ],
   "source": [
    "plt.matshow(theta_hat[:,3].reshape(28,28))\n",
    "plt.colorbar()\n",
    "plt.show()"
   ]
  },
  {
   "cell_type": "code",
   "execution_count": 7,
   "metadata": {
    "collapsed": false
   },
   "outputs": [],
   "source": [
    "def posterior(pixels):\n",
    "    lp = np.zeros(10)\n",
    "    for c in range(10):\n",
    "        lp[c] = lp[c] + pi_hat_log[c]\n",
    "        for j in range (28 * 28):\n",
    "            if pixels[j] == 1:\n",
    "                lp[c] = lp[c] + theta_hat_log[j,c]\n",
    "            else:\n",
    "                lp[c] = lp[c] + one_minus_theta_hat_log[j,c]\n",
    "    return (np.exp(lp) / sum(np.exp(lp)))"
   ]
  },
  {
   "cell_type": "code",
   "execution_count": 8,
   "metadata": {
    "collapsed": true
   },
   "outputs": [],
   "source": [
    "test_data = np.loadtxt('./.cleaned_data_test_Data.csv',delimiter=',',dtype=int)"
   ]
  },
  {
   "cell_type": "code",
   "execution_count": 9,
   "metadata": {
    "collapsed": false
   },
   "outputs": [],
   "source": [
    "def best_guess(pixels):\n",
    "    guess = np.argmax(posterior(pixels))\n",
    "    prob = posterior(pixels)[guess]\n",
    "    return (guess, prob)"
   ]
  },
  {
   "cell_type": "code",
   "execution_count": 10,
   "metadata": {
    "collapsed": true
   },
   "outputs": [],
   "source": [
    "def test_label_guess(row):\n",
    "    test = test_data[row,1:]\n",
    "    label = test_data[row,0]\n",
    "    (guess,prob) = best_guess(test)\n",
    "    return (label,guess,prob)"
   ]
  },
  {
   "cell_type": "code",
   "execution_count": 11,
   "metadata": {
    "collapsed": false
   },
   "outputs": [],
   "source": [
    "def print_row(row):\n",
    "    plt.matshow(test_data[row,1:].reshape(28,28))\n",
    "    plt.show()\n",
    "    return"
   ]
  },
  {
   "cell_type": "code",
   "execution_count": 12,
   "metadata": {
    "collapsed": false
   },
   "outputs": [
    {
     "name": "stdout",
     "output_type": "stream",
     "text": [
      "0.842\n"
     ]
    }
   ],
   "source": [
    "counter = 0\n",
    "for r in range(test_data.shape[0]):\n",
    "    (label,guess,prop) = test_label_guess(r)\n",
    "    if label == guess:\n",
    "        counter = counter + 1\n",
    "print(counter / test_data.shape[0])"
   ]
  },
  {
   "cell_type": "code",
   "execution_count": 20,
   "metadata": {
    "collapsed": false
   },
   "outputs": [
    {
     "name": "stdout",
     "output_type": "stream",
     "text": [
      "(9, 9, 0.99999999998823486)\n"
     ]
    },
    {
     "data": {
      "image/png": "[encoded data removed]",
      "text/plain": [
       "<matplotlib.figure.Figure at 0x7f80b10f1be0>"
      ]
     },
     "metadata": {},
     "output_type": "display_data"
    }
   ],
   "source": [
    "x = 4947\n",
    "print(test_label_guess(x))\n",
    "print_row(x)"
   ]
  },
  {
   "cell_type": "code",
   "execution_count": null,
   "metadata": {
    "collapsed": true
   },
   "outputs": [],
   "source": []
  }
 ],
 "metadata": {
  "kernelspec": {
   "display_name": "Python 3",
   "language": "python",
   "name": "python3"
  },
  "language_info": {
   "codemirror_mode": {
    "name": "ipython",
    "version": 3
   },
   "file_extension": ".py",
   "mimetype": "text/x-python",
   "name": "python",
   "nbconvert_exporter": "python",
   "pygments_lexer": "ipython3",
   "version": "3.5.1"
  },
  "widgets": {
   "state": {},
   "version": "1.1.1"
  }
 },
 "nbformat": 4,
 "nbformat_minor": 0
}
